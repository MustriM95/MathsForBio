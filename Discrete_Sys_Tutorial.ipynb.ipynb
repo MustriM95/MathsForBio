{
 "cells": [
  {
   "cell_type": "markdown",
   "id": "07b8807d-569c-4a80-a43f-8d8dcd99e9ff",
   "metadata": {},
   "source": [
    "# Tutorial: Analysing Change One Step at a Time"
   ]
  },
  {
   "cell_type": "markdown",
   "id": "bce82c86-d4e2-495c-99b1-ebfc62336165",
   "metadata": {},
   "source": [
    "1. Consider the sequence $\\{a_{n}\\}:\\mathbb{N} \\to \\mathbb{R}$ defined by the following relationship: \n",
    "\n",
    "$$\\Large a_{n} = \\left(1+\\frac{x}{n}\\right)^{n}$$ \n",
    "Where $x \\in \\mathbb{R}$. \\\n",
    "    a) Based on what you know about sequences, try and guess whether $\\{a_{n} \\}$ will converge to a limit as $n \\to \\infty$. How might this limit change with respect to the value of $x$?\\\n",
    "    b) Write a script to evaluate the behaviour of this sequence for $x=1$. What can be said about its limit as $n \\to \\infty$? (hint: notice that this limit has a name)\\\n",
    "    c) Using the script you wrote for (b), graph the approximate limits of $\\{a_{n}\\}$ for different values of $x$, from the resulting graph, try and see if you can relate this sequence to a more familiar concept. (hint: compare graph to $e^{x}$)"
   ]
  },
  {
   "cell_type": "markdown",
   "id": "09db9bfb-5e34-4c48-93a2-e0cf50522f18",
   "metadata": {},
   "source": [
    "2. Using what you've learned about limits, evaluate the following sequences as $n = 0, \\dots \\to \\infty$. Identify whether or not the limit exists, and if so, what is its value? \\\n",
    "    a) $\\large a_{n} = \\dfrac{e^{n}}{n!}$, where $n! = 1 \\cdot 2 \\cdot 3 \\cdots n$.\\\n",
    "    \\\n",
    "    b) $\\large a_{n} = a_{n-1} + \\dfrac{(-1)^n}{1 + 2n}$ with $a_{0}=1$. \\\n",
    "    \\\n",
    "    c) $\\large a_{n} = r^{n}$, consider the five cases: $r>1$, $r=1$, $ -1<r<1$, $r=-1$, and $r<-1$.\\\n",
    "    \\\n",
    "    d) $\\large a_{n} = \\dfrac{(2n)!}{(n+1)!n!}$\n",
    "    \n",
    "    While you may resort to computational tools, try using the propeties of limits to justify your answers."
   ]
  },
  {
   "cell_type": "markdown",
   "id": "8eb7eceb-f04e-4b9f-9cb3-20dc67447d54",
   "metadata": {},
   "source": [
    "3. Using some basic geometric principles, it is possible to build a sequence that approximates the circumference of a circle. To motivate this construction, let us consider an equilateral triangle circumscribed within a circle of radius 1."
   ]
  },
  {
   "cell_type": "markdown",
   "id": "c75838dd-307a-4b26-9a03-c0cbd694e9d3",
   "metadata": {},
   "source": [
    "\n",
    "<img src=\"tri-circle.png\" width=\"500\"/>\n"
   ]
  },
  {
   "cell_type": "markdown",
   "id": "5e5d7b64-217a-4b85-921f-acf4e0633a40",
   "metadata": {},
   "source": [
    "We can break this triangle into three equal isosceles triangles and note that the angle opposite to their base is $\\theta = \\frac{2 \\pi}{3}$ and that the congruent sides are equal to $1$. Hence, the perimeter of the circumscribing equilateral triangle is the sum of the bases of the three isosceles triangles $P = 3L$. To find the value of the base $L$ we can split the isosceles triangle into two equal right triangles and note that $L = 2\\sin(\\frac{2\\pi}{6})$, and therefore $P=6\\sin(\\frac{2\\pi}{6})$.\n",
    "\n",
    "The next step in this process involves recognizing that we can approximate the circumference of the unitary circle by circubscribing regular polygons with more and more sides. If we take this a step further and circumbscribe a square we can break it down into four equal isosceles triangles."
   ]
  },
  {
   "cell_type": "markdown",
   "id": "4238305a-b3a8-4f01-ae57-8d34b9526545",
   "metadata": {},
   "source": [
    "<img src=\"quad-circle.png\" width=\"500\"/>"
   ]
  },
  {
   "cell_type": "markdown",
   "id": "b03d6d1d-2563-4c5d-8908-64398a888fe7",
   "metadata": {},
   "source": [
    "\n",
    "a) Following the reasoning we have used so far, construct a sequence $\\{a_{n}\\}$, with $n\\in \\{3, 4, \\dots, \\infty\\}$, that descirbes the perimeter of the $n$-sided regular polygon circumscribed inside the unit circle.\n",
    "    \n",
    "b) Show that as $n \\to \\infty$, $\\{a_{n}\\}$ approaches the circumference of a circle. (Hint: use the small angle approximation $\\sin(\\theta)=\\theta$, for $\\theta << 1$).\n",
    "\n",
    "c) A straightforward approach to finding $\\lim_{n\\to \\infty}a_{n}$ is to rearrange $a_{n}$ in terms of $\\textit{cosines}$, using trigonometric principles, derive $a_{n}$ in terms of $\\cos$ and find the liit as $n \\to\\infty$ without resorting to an approximation.\n"
   ]
  },
  {
   "cell_type": "markdown",
   "id": "374afb6c-1020-42f3-b39f-4c21c2eb7145",
   "metadata": {},
   "source": [
    "## 4. Pythagoras' Tree"
   ]
  },
  {
   "cell_type": "markdown",
   "id": "72557a91-db94-4854-b840-fa410a0c50ea",
   "metadata": {},
   "source": [
    "Pythagoras' Tree is a well known fractal constructed through the systematic aggregation of squares following a simple set of rules. We start with a square with sides of size $L$, then we imagine a right triangle on top of the square with its hypothenuse $L$ facing a side of the square, both adjacent angles $\\theta = \\frac{\\pi}{4}$, and place two new squares on the legs of the triangle."
   ]
  },
  {
   "cell_type": "markdown",
   "id": "61451bbb-3ea2-470a-a0a5-e6e049d9fce4",
   "metadata": {},
   "source": [
    "<img src=\"pythagoras_tree.png\" width=\"300\"/>"
   ]
  },
  {
   "cell_type": "markdown",
   "id": "dcf9eece-5cce-42d9-9ca8-e99aca5af957",
   "metadata": {},
   "source": [
    "Next, we repeat this process on the two resulting squares, rendering four more squares on which we may iterate once more, on and on.\n",
    "\n",
    "a) Using your understanding of trigonometry, build a sequence $a_{n}$ which depicts the sum of the areas of the squares generated by the $n^{th}$ iteration of Pythagoras' tree.\n",
    "\n",
    "b) Show that as $n \\to \\infty$, $a_{n}$ diverges to $\\infty$.\n",
    "\n",
    "c) Pythagoras' tree can be generalized by varying the acute angles of the right triangle, rendering a lopsided version of the tree. Derive a new sequence $b_{n}$ for the sum of the areas generated when th acute angles are distinct $\\theta \\ne \\alpha$. How does the growth of $b_{n}$ compare to the growth of  $a_{n}$. (Hint: what is the ratio of the sequences)."
   ]
  },
  {
   "cell_type": "markdown",
   "id": "f2ce1a51-a055-413f-98a3-ad5880288d57",
   "metadata": {},
   "source": [
    "<img src=\"py_tree_2.png\" width=\"400\"/>"
   ]
  },
  {
   "cell_type": "markdown",
   "id": "8e6c977d-f1fd-49cd-b8cb-ea43f6b11011",
   "metadata": {},
   "source": [
    "## 5. The Ricker Model"
   ]
  },
  {
   "cell_type": "markdown",
   "id": "ae71278d-17b2-41a1-ac92-751c5952f88b",
   "metadata": {},
   "source": [
    "The Ricker model is a classic example of a density dependent discrete time population model. It was originally introduced by Bill Ricker in the 1950's to describe the population dynamics of fisheries. In terms of the number of individuals in a population for a given generation, $N_{t}$, the Ricker model is expressed as:\n",
    "\n",
    "$\n",
    "\\large N_{t+1} = N_{t}e^{r\\left(1-\\frac{N_{t}}{k}\\right)}\n",
    "$\n",
    "\n",
    "Where $r$ is the intrinsic growth rate of the population and $k$ is it's carrying capacity.\n",
    "\n",
    "a) Rearrange the Ricker Model so that it is in terms of the population's density, $X_{t}$, with respect to the carrying capacity.\n",
    "\n",
    "b) Parting from the expression derived in (a), find all of the fixed points of $X_{t}$.\n",
    "\n",
    "c) Write some code to simulate $X_{t}$, wtith $X_{0}=0.5$, and classify the behavior of the fixed points $X^{*}$ for different values of $r$ ($r=1$, $r=2$, $r=2.5$, and $r=3$)."
   ]
  },
  {
   "cell_type": "markdown",
   "id": "65f7a8ba-c269-4819-9654-d12a583b14d0",
   "metadata": {},
   "source": [
    "## 6. Cobwebbing"
   ]
  },
  {
   "cell_type": "code",
   "execution_count": null,
   "id": "1fbad057-bdb6-402b-9765-1ae15b9261fc",
   "metadata": {},
   "outputs": [],
   "source": []
  }
 ],
 "metadata": {
  "kernelspec": {
   "display_name": "Python 3 (ipykernel)",
   "language": "python",
   "name": "python3"
  },
  "language_info": {
   "codemirror_mode": {
    "name": "ipython",
    "version": 3
   },
   "file_extension": ".py",
   "mimetype": "text/x-python",
   "name": "python",
   "nbconvert_exporter": "python",
   "pygments_lexer": "ipython3",
   "version": "3.10.4"
  }
 },
 "nbformat": 4,
 "nbformat_minor": 5
}
